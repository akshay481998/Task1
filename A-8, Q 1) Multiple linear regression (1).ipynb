{
 "cells": [
  {
   "cell_type": "code",
   "execution_count": 2,
   "metadata": {},
   "outputs": [],
   "source": [
    "import numpy as np\n",
    "import pandas as pd\n",
    "import matplotlib.pyplot as plt\n",
    "from sklearn.linear_model import LinearRegression\n",
    "from sklearn import metrics"
   ]
  },
  {
   "cell_type": "code",
   "execution_count": 3,
   "metadata": {},
   "outputs": [
    {
     "data": {
      "text/html": [
       "<div>\n",
       "<style scoped>\n",
       "    .dataframe tbody tr th:only-of-type {\n",
       "        vertical-align: middle;\n",
       "    }\n",
       "\n",
       "    .dataframe tbody tr th {\n",
       "        vertical-align: top;\n",
       "    }\n",
       "\n",
       "    .dataframe thead th {\n",
       "        text-align: right;\n",
       "    }\n",
       "</style>\n",
       "<table border=\"1\" class=\"dataframe\">\n",
       "  <thead>\n",
       "    <tr style=\"text-align: right;\">\n",
       "      <th></th>\n",
       "      <th>source_a</th>\n",
       "      <th>source_b</th>\n",
       "      <th>source_r</th>\n",
       "      <th>Freq</th>\n",
       "      <th>last_update_days_ago</th>\n",
       "      <th>Web order</th>\n",
       "      <th>Spending</th>\n",
       "    </tr>\n",
       "  </thead>\n",
       "  <tbody>\n",
       "    <tr>\n",
       "      <th>0</th>\n",
       "      <td>0</td>\n",
       "      <td>1</td>\n",
       "      <td>0</td>\n",
       "      <td>2</td>\n",
       "      <td>183</td>\n",
       "      <td>1</td>\n",
       "      <td>128</td>\n",
       "    </tr>\n",
       "    <tr>\n",
       "      <th>1</th>\n",
       "      <td>0</td>\n",
       "      <td>0</td>\n",
       "      <td>0</td>\n",
       "      <td>2</td>\n",
       "      <td>194</td>\n",
       "      <td>0</td>\n",
       "      <td>127</td>\n",
       "    </tr>\n",
       "    <tr>\n",
       "      <th>2</th>\n",
       "      <td>1</td>\n",
       "      <td>0</td>\n",
       "      <td>0</td>\n",
       "      <td>1</td>\n",
       "      <td>161</td>\n",
       "      <td>0</td>\n",
       "      <td>174</td>\n",
       "    </tr>\n",
       "    <tr>\n",
       "      <th>3</th>\n",
       "      <td>0</td>\n",
       "      <td>0</td>\n",
       "      <td>0</td>\n",
       "      <td>1</td>\n",
       "      <td>73</td>\n",
       "      <td>0</td>\n",
       "      <td>192</td>\n",
       "    </tr>\n",
       "    <tr>\n",
       "      <th>4</th>\n",
       "      <td>0</td>\n",
       "      <td>0</td>\n",
       "      <td>1</td>\n",
       "      <td>2</td>\n",
       "      <td>147</td>\n",
       "      <td>1</td>\n",
       "      <td>386</td>\n",
       "    </tr>\n",
       "  </tbody>\n",
       "</table>\n",
       "</div>"
      ],
      "text/plain": [
       "   source_a  source_b  source_r  Freq  last_update_days_ago  Web order  \\\n",
       "0         0         1         0     2                   183          1   \n",
       "1         0         0         0     2                   194          0   \n",
       "2         1         0         0     1                   161          0   \n",
       "3         0         0         0     1                    73          0   \n",
       "4         0         0         1     2                   147          1   \n",
       "\n",
       "   Spending  \n",
       "0       128  \n",
       "1       127  \n",
       "2       174  \n",
       "3       192  \n",
       "4       386  "
      ]
     },
     "execution_count": 3,
     "metadata": {},
     "output_type": "execute_result"
    }
   ],
   "source": [
    "df = pd.read_csv('Tayko-known.csv')\n",
    "df.head()"
   ]
  },
  {
   "cell_type": "code",
   "execution_count": 4,
   "metadata": {},
   "outputs": [
    {
     "data": {
      "text/plain": [
       "(500, 7)"
      ]
     },
     "execution_count": 4,
     "metadata": {},
     "output_type": "execute_result"
    }
   ],
   "source": [
    "df.shape"
   ]
  },
  {
   "cell_type": "code",
   "execution_count": 5,
   "metadata": {},
   "outputs": [
    {
     "data": {
      "text/plain": [
       "LinearRegression()"
      ]
     },
     "execution_count": 5,
     "metadata": {},
     "output_type": "execute_result"
    }
   ],
   "source": [
    "# Q1) Response variable = Spending\n",
    "# independent variables are: source_a, source_b, source_r, Freq, last update_days_agoand web order \n",
    "y = df['Spending']\n",
    "X = df.drop('Spending', axis = 1)\n",
    "regressor = LinearRegression()  \n",
    "regressor.fit(X,y)"
   ]
  },
  {
   "cell_type": "code",
   "execution_count": 6,
   "metadata": {},
   "outputs": [
    {
     "name": "stdout",
     "output_type": "stream",
     "text": [
      "93.0654744282308\n",
      "[42.75558935  1.50611681 56.27537858 81.20100669 -0.65589955 -2.45746776]\n"
     ]
    }
   ],
   "source": [
    "print(regressor.intercept_)\n",
    "#For retrieving the slope:\n",
    "print(regressor.coef_)"
   ]
  },
  {
   "cell_type": "code",
   "execution_count": 7,
   "metadata": {},
   "outputs": [],
   "source": [
    "# Regression equation \n",
    "# Spending (y) = 93.06 + 42.76*source_a + 1.51*source_b + 56.28*source_r + 81.20*Freq - 0.66*last_update_days_ago \n",
    "#               - 2.46*Web order\n"
   ]
  },
  {
   "cell_type": "code",
   "execution_count": 8,
   "metadata": {},
   "outputs": [],
   "source": [
    "import statistics as st"
   ]
  },
  {
   "cell_type": "code",
   "execution_count": 9,
   "metadata": {},
   "outputs": [
    {
     "data": {
      "text/plain": [
       "213.306"
      ]
     },
     "execution_count": 9,
     "metadata": {},
     "output_type": "execute_result"
    }
   ],
   "source": [
    "# Q II) Standard deviation of spending , mean of spending and RMSE ( Root mean square error ) \n",
    "# Mean of spending \n",
    "Mean_spending = np.mean(y)\n",
    "Mean_spending"
   ]
  },
  {
   "cell_type": "code",
   "execution_count": 10,
   "metadata": {},
   "outputs": [
    {
     "data": {
      "text/plain": [
       "227.74137165653494"
      ]
     },
     "execution_count": 10,
     "metadata": {},
     "output_type": "execute_result"
    }
   ],
   "source": [
    "# Standard deviation of spending \n",
    "Standad_deviation = np.std(y)\n",
    "Standad_deviation"
   ]
  },
  {
   "cell_type": "code",
   "execution_count": 11,
   "metadata": {},
   "outputs": [
    {
     "name": "stdout",
     "output_type": "stream",
     "text": [
      "Mean Absolute Error: 102.39488343229993\n",
      "Mean Squared Error: 27639.628663559644\n",
      "Root Mean Squared Error: 166.25170273882804\n"
     ]
    }
   ],
   "source": [
    "# RMSE = Root mean squared error \n",
    "y_pred = regressor.predict(X)\n",
    "print('Mean Absolute Error:', metrics.mean_absolute_error(y, y_pred))  \n",
    "print('Mean Squared Error:', metrics.mean_squared_error(y, y_pred))  \n",
    "print('Root Mean Squared Error:', np.sqrt(metrics.mean_squared_error(y, y_pred)))"
   ]
  },
  {
   "cell_type": "code",
   "execution_count": 12,
   "metadata": {},
   "outputs": [
    {
     "data": {
      "text/html": [
       "<div>\n",
       "<style scoped>\n",
       "    .dataframe tbody tr th:only-of-type {\n",
       "        vertical-align: middle;\n",
       "    }\n",
       "\n",
       "    .dataframe tbody tr th {\n",
       "        vertical-align: top;\n",
       "    }\n",
       "\n",
       "    .dataframe thead th {\n",
       "        text-align: right;\n",
       "    }\n",
       "</style>\n",
       "<table border=\"1\" class=\"dataframe\">\n",
       "  <thead>\n",
       "    <tr style=\"text-align: right;\">\n",
       "      <th></th>\n",
       "      <th>source_a</th>\n",
       "      <th>source_b</th>\n",
       "      <th>source_r</th>\n",
       "      <th>Freq</th>\n",
       "      <th>last_update_days_ago</th>\n",
       "      <th>Web order</th>\n",
       "      <th>Spending</th>\n",
       "    </tr>\n",
       "  </thead>\n",
       "  <tbody>\n",
       "    <tr>\n",
       "      <th>0</th>\n",
       "      <td>0</td>\n",
       "      <td>1</td>\n",
       "      <td>0</td>\n",
       "      <td>3</td>\n",
       "      <td>148</td>\n",
       "      <td>1</td>\n",
       "      <td>NaN</td>\n",
       "    </tr>\n",
       "    <tr>\n",
       "      <th>1</th>\n",
       "      <td>0</td>\n",
       "      <td>0</td>\n",
       "      <td>0</td>\n",
       "      <td>3</td>\n",
       "      <td>145</td>\n",
       "      <td>0</td>\n",
       "      <td>NaN</td>\n",
       "    </tr>\n",
       "    <tr>\n",
       "      <th>2</th>\n",
       "      <td>0</td>\n",
       "      <td>0</td>\n",
       "      <td>0</td>\n",
       "      <td>1</td>\n",
       "      <td>45</td>\n",
       "      <td>1</td>\n",
       "      <td>NaN</td>\n",
       "    </tr>\n",
       "    <tr>\n",
       "      <th>3</th>\n",
       "      <td>0</td>\n",
       "      <td>0</td>\n",
       "      <td>0</td>\n",
       "      <td>6</td>\n",
       "      <td>70</td>\n",
       "      <td>0</td>\n",
       "      <td>NaN</td>\n",
       "    </tr>\n",
       "    <tr>\n",
       "      <th>4</th>\n",
       "      <td>1</td>\n",
       "      <td>0</td>\n",
       "      <td>0</td>\n",
       "      <td>4</td>\n",
       "      <td>24</td>\n",
       "      <td>1</td>\n",
       "      <td>NaN</td>\n",
       "    </tr>\n",
       "    <tr>\n",
       "      <th>...</th>\n",
       "      <td>...</td>\n",
       "      <td>...</td>\n",
       "      <td>...</td>\n",
       "      <td>...</td>\n",
       "      <td>...</td>\n",
       "      <td>...</td>\n",
       "      <td>...</td>\n",
       "    </tr>\n",
       "    <tr>\n",
       "      <th>495</th>\n",
       "      <td>1</td>\n",
       "      <td>0</td>\n",
       "      <td>0</td>\n",
       "      <td>3</td>\n",
       "      <td>71</td>\n",
       "      <td>1</td>\n",
       "      <td>NaN</td>\n",
       "    </tr>\n",
       "    <tr>\n",
       "      <th>496</th>\n",
       "      <td>0</td>\n",
       "      <td>0</td>\n",
       "      <td>0</td>\n",
       "      <td>1</td>\n",
       "      <td>140</td>\n",
       "      <td>0</td>\n",
       "      <td>NaN</td>\n",
       "    </tr>\n",
       "    <tr>\n",
       "      <th>497</th>\n",
       "      <td>0</td>\n",
       "      <td>0</td>\n",
       "      <td>0</td>\n",
       "      <td>2</td>\n",
       "      <td>123</td>\n",
       "      <td>0</td>\n",
       "      <td>NaN</td>\n",
       "    </tr>\n",
       "    <tr>\n",
       "      <th>498</th>\n",
       "      <td>0</td>\n",
       "      <td>0</td>\n",
       "      <td>0</td>\n",
       "      <td>2</td>\n",
       "      <td>57</td>\n",
       "      <td>0</td>\n",
       "      <td>NaN</td>\n",
       "    </tr>\n",
       "    <tr>\n",
       "      <th>499</th>\n",
       "      <td>0</td>\n",
       "      <td>0</td>\n",
       "      <td>0</td>\n",
       "      <td>1</td>\n",
       "      <td>132</td>\n",
       "      <td>1</td>\n",
       "      <td>NaN</td>\n",
       "    </tr>\n",
       "  </tbody>\n",
       "</table>\n",
       "<p>500 rows × 7 columns</p>\n",
       "</div>"
      ],
      "text/plain": [
       "     source_a  source_b  source_r  Freq  last_update_days_ago  Web order  \\\n",
       "0           0         1         0     3                   148          1   \n",
       "1           0         0         0     3                   145          0   \n",
       "2           0         0         0     1                    45          1   \n",
       "3           0         0         0     6                    70          0   \n",
       "4           1         0         0     4                    24          1   \n",
       "..        ...       ...       ...   ...                   ...        ...   \n",
       "495         1         0         0     3                    71          1   \n",
       "496         0         0         0     1                   140          0   \n",
       "497         0         0         0     2                   123          0   \n",
       "498         0         0         0     2                    57          0   \n",
       "499         0         0         0     1                   132          1   \n",
       "\n",
       "     Spending  \n",
       "0         NaN  \n",
       "1         NaN  \n",
       "2         NaN  \n",
       "3         NaN  \n",
       "4         NaN  \n",
       "..        ...  \n",
       "495       NaN  \n",
       "496       NaN  \n",
       "497       NaN  \n",
       "498       NaN  \n",
       "499       NaN  \n",
       "\n",
       "[500 rows x 7 columns]"
      ]
     },
     "execution_count": 12,
     "metadata": {},
     "output_type": "execute_result"
    }
   ],
   "source": [
    "# Q III) regression equation to predict spending levels for the customer records in \"Tayko-unknown.csv\"\n",
    "df1 = pd.read_csv('Tayko-unknown.csv')\n",
    "df1"
   ]
  },
  {
   "cell_type": "code",
   "execution_count": 13,
   "metadata": {},
   "outputs": [],
   "source": [
    "X1 = df1.drop('Spending', axis = 1)"
   ]
  },
  {
   "cell_type": "code",
   "execution_count": 14,
   "metadata": {},
   "outputs": [],
   "source": [
    "Predicted_Spending = regressor.predict(X1)\n",
    "# Predicted_Spending"
   ]
  },
  {
   "cell_type": "code",
   "execution_count": 15,
   "metadata": {},
   "outputs": [
    {
     "data": {
      "text/plain": [
       "[571.2110397020172,\n",
       " 623.7907956645422,\n",
       " 651.8001584716442,\n",
       " 664.3843686608449,\n",
       " 827.4422815863197,\n",
       " 859.415228965431,\n",
       " 888.1882835224123,\n",
       " 938.648537013684,\n",
       " 1012.3805474257596,\n",
       " 1060.2626596821556]"
      ]
     },
     "execution_count": 15,
     "metadata": {},
     "output_type": "execute_result"
    }
   ],
   "source": [
    "# Q. 4) top 10 customers for predicted spending.\n",
    "Predicted_Spending.sort()\n",
    "Unknown_Spending = list(Predicted_Spending)\n",
    "#Unknown_Spending[0:10] 1st 10 custmers\n",
    "\n",
    "Unknown_Spending[490:] # List of top 10 customers for predicted spending.\n",
    "\n"
   ]
  },
  {
   "cell_type": "code",
   "execution_count": 27,
   "metadata": {},
   "outputs": [
    {
     "name": "stdout",
     "output_type": "stream",
     "text": [
      "250.08975429254164\n",
      "252.34570215348293\n",
      "253.53538245118818\n",
      "254.38559971188877\n",
      "258.37933521464686\n",
      "258.6150030777601\n",
      "259.03523476164236\n",
      "259.39446674676464\n",
      "261.2386012657421\n",
      "263.3738756561209\n",
      "264.519544326443\n",
      "264.772200260933\n",
      "266.11959264038876\n",
      "267.9651724850895\n",
      "269.11084115541155\n",
      "272.5564693140581\n",
      "275.0139370783712\n",
      "275.0480850381126\n",
      "275.1800675020402\n",
      "276.4918665960312\n",
      "277.1037545156436\n",
      "279.3681207185033\n",
      "279.6052339073398\n",
      "279.7713643310088\n",
      "280.02402026549885\n",
      "280.02402026549885\n",
      "286.416885311785\n",
      "286.8201289242905\n",
      "286.9422477205763\n",
      "289.44372711227254\n",
      "291.4114257532591\n",
      "293.5452548179146\n",
      "293.5452548179146\n",
      "294.1997090391868\n",
      "295.468941831518\n",
      "297.31452167621876\n",
      "297.34866963596016\n",
      "297.48065209988766\n",
      "297.48065209988766\n",
      "299.28222031720526\n",
      "301.2499189581918\n",
      "301.3720377544776\n",
      "301.4160493818608\n",
      "304.0382022441196\n",
      "306.6632457578249\n",
      "309.9427434928025\n",
      "311.93862942382515\n",
      "313.1782296003969\n",
      "313.8341291473924\n",
      "316.2036260751611\n",
      "316.9915080860842\n",
      "317.81353805674865\n",
      "317.93565685303446\n",
      "319.1253371507397\n",
      "320.9269053680573\n",
      "321.61839820051745\n",
      "322.4330221757534\n",
      "327.6520312616814\n",
      "328.83184789174487\n",
      "330.14364698573587\n",
      "330.23161782228027\n",
      "330.39774824594923\n",
      "331.28931565605797\n",
      "332.077197666981\n",
      "338.01444154968203\n",
      "338.92444235689095\n",
      "343.5157391858595\n",
      "345.91486872938765\n",
      "349.00004875066014\n",
      "351.87630287313226\n",
      "353.3542323907923\n",
      "354.9016993478965\n",
      "355.15580060810987\n",
      "356.38107419127977\n",
      "356.8708433146063\n",
      "361.22502695473844\n",
      "363.8486251427205\n",
      "365.563667849217\n",
      "369.75172106568016\n",
      "377.2037292714673\n",
      "377.85818349273956\n",
      "389.00992111738657\n",
      "389.00992111738657\n",
      "389.17605154105553\n",
      "392.4555492760331\n",
      "399.01454474598825\n",
      "399.13666354227405\n",
      "400.81611296330584\n",
      "404.26174112195235\n",
      "409.21082461031995\n",
      "411.43262451151986\n",
      "421.43724814012154\n",
      "423.89471590443463\n",
      "429.71128631657314\n",
      "438.0718500038459\n",
      "442.42603364397803\n",
      "445.5394009552867\n",
      "453.8134391317383\n",
      "464.4725169816122\n",
      "478.9037523412368\n",
      "481.52735052921884\n",
      "481.52735052921884\n",
      "482.01711965254543\n",
      "489.39814509316506\n",
      "493.98944192213366\n",
      "501.1603253117012\n",
      "508.37522032865184\n",
      "529.5301362561772\n",
      "531.7349480860004\n",
      "534.3585462739825\n",
      "551.5780649195348\n",
      "554.6899869051201\n",
      "554.6914322308434\n",
      "564.529925435776\n",
      "565.3519554064405\n",
      "571.2110397020172\n",
      "623.7907956645422\n",
      "651.8001584716442\n",
      "664.3843686608449\n",
      "827.4422815863197\n",
      "859.415228965431\n",
      "888.1882835224123\n",
      "938.648537013684\n",
      "1012.3805474257596\n",
      "1060.2626596821556\n"
     ]
    }
   ],
   "source": [
    "# Q. 5 ) at least $250 in spending per catalog mailed. How many customers should you mail to, from Tayko-unknown.csv\n",
    "for ele in Unknown_Spending:\n",
    "    if ele >= 250.00:\n",
    "        print(ele)\n",
    "         \n",
    "            \n",
    "      \n",
    "         "
   ]
  },
  {
   "cell_type": "code",
   "execution_count": 33,
   "metadata": {},
   "outputs": [
    {
     "data": {
      "text/plain": [
       "250.08975429254164"
      ]
     },
     "execution_count": 33,
     "metadata": {},
     "output_type": "execute_result"
    }
   ],
   "source": [
    "# customers should you mail to  \n",
    "Unknown_Spending[375] # It will retrive 375th index value from the list of Unknown spending.\n",
    "# customers should you mail to are 126 in total.\n",
    "# I think this is not correct way to find the answer."
   ]
  },
  {
   "cell_type": "code",
   "execution_count": 34,
   "metadata": {},
   "outputs": [],
   "source": [
    "# Comparision of predicted values and actual value it is not the part of the original question.\n",
    "# df2 =  pd.DataFrame({'Actual': y, 'Predicted':y_pred }) "
   ]
  },
  {
   "cell_type": "code",
   "execution_count": 35,
   "metadata": {},
   "outputs": [],
   "source": [
    "# for first 25 values \n",
    "# abc = df2.head(25)\n",
    "# abc.plot(kind='bar',figsize=(16,10))\n",
    "# plt.grid(which='major', linestyle='-', linewidth='0.5', color='green')\n",
    "# plt.show()\n"
   ]
  }
 ],
 "metadata": {
  "kernelspec": {
   "display_name": "Python 3",
   "language": "python",
   "name": "python3"
  },
  "language_info": {
   "codemirror_mode": {
    "name": "ipython",
    "version": 3
   },
   "file_extension": ".py",
   "mimetype": "text/x-python",
   "name": "python",
   "nbconvert_exporter": "python",
   "pygments_lexer": "ipython3",
   "version": "3.8.5"
  }
 },
 "nbformat": 4,
 "nbformat_minor": 5
}
